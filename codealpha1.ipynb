{
 "cells": [
  {
   "cell_type": "code",
   "execution_count": 1,
   "id": "d901d847",
   "metadata": {},
   "outputs": [],
   "source": [
    "import tensorflow as tf\n",
    "from tensorflow.keras.models import Sequential\n",
    "from tensorflow.keras.layers import Conv2D, MaxPooling2D, Flatten, Dense, Dropout ,BatchNormalization, GlobalAveragePooling2D,MaxPool2D\n",
    "from tensorflow.keras.preprocessing.image import ImageDataGenerator\n",
    "from Evaluation_matrices import f1\n",
    "import keras\n",
    "from keras import layers , metrics \n",
    "from tensorflow.keras import layers, models\n",
    "from keras.models import Model, load_model\n",
    "from keras.callbacks import  ModelCheckpoint ,ReduceLROnPlateau ,EarlyStopping\n",
    "import matplotlib.pyplot as plt\n",
    "import numpy as np\n",
    "from tensorflow.keras.regularizers import l2\n",
    "from Evaluation_matrices import f1\n",
    "from tensorflow.keras import backend as K\n",
    "from sklearn.model_selection import train_test_split\n",
    "import os\n",
    "import cv2\n",
    "from sklearn.preprocessing import LabelEncoder\n",
    "from keras.utils import to_categorical\n",
    "from tensorflow.keras.optimizers import RMSprop, SGD\n"
   ]
  },
  {
   "cell_type": "code",
   "execution_count": 2,
   "id": "3077b449",
   "metadata": {},
   "outputs": [],
   "source": [
    "data_dir = r'D:\\NU\\codealpha\\new1'"
   ]
  },
  {
   "cell_type": "code",
   "execution_count": 3,
   "id": "c24ed463",
   "metadata": {},
   "outputs": [],
   "source": [
    "# Initialize empty lists to store images and labels\n",
    "images = []\n",
    "labels = []\n",
    "\n",
    "# Loop through each subfolder (class) in the data directory\n",
    "for class_name in os.listdir(data_dir):\n",
    "    class_dir = os.path.join(data_dir, class_name)\n",
    "    # Ensure it's a directory\n",
    "    if os.path.isdir(class_dir):\n",
    "        # Loop through each image file in the subfolder\n",
    "        for img_file in os.listdir(class_dir):\n",
    "            # Read the image\n",
    "            img_path = os.path.join(class_dir, img_file)\n",
    "            # Check if image file exists\n",
    "            if os.path.isfile(img_path):\n",
    "                img = cv2.imread(img_path)\n",
    "                # Check if image is loaded successfully\n",
    "                if img is not None:\n",
    "                    # Resize the image if necessary\n",
    "                    img = cv2.resize(img, (224, 224))  # Adjust size as needed\n",
    "                    # Append the image and corresponding label\n",
    "                    images.append(img)\n",
    "                    labels.append(class_name)\n",
    "                else:\n",
    "                    print(f\"Error: Unable to load image '{img_path}'\")\n",
    "            else:\n",
    "                print(f\"Error: File '{img_path}' does not exist\")\n",
    "\n",
    "# Convert lists to numpy arrays\n",
    "images = np.array(images)\n",
    "labels = np.array(labels)\n",
    "\n",
    "# Split the dataset into training, validation, and test sets\n",
    "X_train, X_test, y_train, y_test = train_test_split(images, labels, test_size=0.3, random_state=42)"
   ]
  },
  {
   "cell_type": "code",
   "execution_count": 4,
   "id": "96eb01c0",
   "metadata": {},
   "outputs": [],
   "source": [
    "X_train = X_train/255\n",
    "X_test = X_test/255\n",
    "print(X_train.shape)\n",
    "print(X_test.shape)\n",
    "num_classes =y_train.shape[0]\n",
    "print(num_classes)"
   ]
  },
  {
   "cell_type": "code",
   "execution_count": null,
   "id": "b24730c0",
   "metadata": {},
   "outputs": [],
   "source": [
    "label_encoder = LabelEncoder()\n",
    "y_train_encoded = label_encoder.fit_transform(y_train)\n",
    "print(len(y_train_encoded))"
   ]
  },
  {
   "cell_type": "code",
   "execution_count": null,
   "id": "9898c9e7",
   "metadata": {},
   "outputs": [],
   "source": [
    "model = Sequential()\n",
    "\n",
    "model.add(Conv2D(16, kernel_size=(3, 3), activation='relu', input_shape=(224, 224, 3)))\n",
    "model.add(BatchNormalization())\n",
    "model.add(MaxPooling2D(pool_size=(2, 2)))\n",
    "\n",
    "model.add(Conv2D(32, kernel_size=(3, 3), activation='relu'))\n",
    "model.add(BatchNormalization())\n",
    "model.add(MaxPooling2D(pool_size=(2, 2)))\n",
    "\n",
    "model.add(Conv2D(64, kernel_size=(3, 3), activation='relu'))\n",
    "model.add(BatchNormalization())\n",
    "model.add(MaxPooling2D(pool_size=(2, 2)))\n",
    "\n",
    "model.add(Conv2D(128, kernel_size=(3, 3), activation='relu'))\n",
    "model.add(BatchNormalization())\n",
    "model.add(MaxPooling2D(pool_size=(2, 2)))\n",
    "\n",
    "model.add(GlobalAveragePooling2D())\n",
    "\n",
    "model.add(Dense(128, activation='relu'))\n",
    "model.add(BatchNormalization())\n",
    "model.add(Dropout(0.4))\n",
    "\n",
    "model.add(Dense(64, activation='relu'))\n",
    "model.add(BatchNormalization())\n",
    "model.add(Dropout(0.4))\n",
    "\n",
    "model.add(Dense(32, activation='relu'))\n",
    "model.add(BatchNormalization())\n",
    "model.add(Dropout(0.4))\n",
    "\n",
    "# Output layer with softmax activation for multi-class classification\n",
    "model.add(Dense(len(np.unique(labels)), activation='softmax'))\n"
   ]
  },
  {
   "cell_type": "code",
   "execution_count": 6,
   "id": "fae8942c",
   "metadata": {
    "scrolled": true
   },
   "outputs": [],
   "source": [
    "checkpoint = callbacks.ModelCheckpoint(r'D:\\NU\\codealpha\\model\\model', verbose=1, monitor='val_loss', save_best_only=True)\n",
    "\n",
    "checkpoint1 = callbacks.ModelCheckpoint(r'D:\\NU\\codealpha\\model\\trained_model.h5',save_best_only=True, save_weights_only=True, verbose=1)\n",
    "\n",
    "reduce_lr = callbacks.ReduceLROnPlateau(monitor='val_loss', factor=0.1, patience=3, min_lr=1e-10, verbose=1)\n",
    "\n",
    "early_stop = EarlyStopping(monitor='val_loss', patience=10, restore_best_weights=True)\n",
    "\n",
    "callbacks = [checkpoint1, checkpoint, reduce_lr,early_stop]\n",
    "\n",
    "\n"
   ]
  },
  {
   "cell_type": "code",
   "execution_count": null,
   "id": "42910ca1",
   "metadata": {},
   "outputs": [],
   "source": [
    "\n",
    "opt_adam = tf.keras.optimizers.experimental.Adam(1e-3)\n",
    "# Define RMSprop optimizer\n",
    "#opt_rmsprop = RMSprop(learning_rate=1e-3)\n",
    "\n",
    "# Define SGD optimizer with momentum\n",
    "#opt_sgd = SGD(learning_rate=1e-3, momentum=0.9)\n",
    "model.compile(loss='sparse_categorical_crossentropy',\n",
    "              \n",
    "              optimizer=opt_adam,\n",
    "              metrics=['acc'])\n",
    "\n",
    "model.summary()"
   ]
  },
  {
   "cell_type": "code",
   "execution_count": 8,
   "id": "b0d05f5e",
   "metadata": {},
   "outputs": [
    {
     "name": "stdout",
     "output_type": "stream",
     "text": [
      "Epoch 1/120\n",
      "40/40 [==============================] - ETA: 0s - loss: 3.6495 - acc: 0.2664\n",
      "Epoch 1: val_loss improved from inf to 1.38301, saving model to D:\\NU\\Nour_project\\model\\trained_model.h5\n",
      "\n",
      "Epoch 1: val_loss improved from inf to 1.38301, saving model to D:\\NU\\Nour_project\\model\\model\n"
     ]
    },
    {
     "name": "stderr",
     "output_type": "stream",
     "text": [
      "WARNING:absl:Found untraced functions such as _jit_compiled_convolution_op, _jit_compiled_convolution_op, _jit_compiled_convolution_op, _jit_compiled_convolution_op, _jit_compiled_convolution_op while saving (showing 5 of 13). These functions will not be directly callable after loading.\n"
     ]
    },
    {
     "name": "stdout",
     "output_type": "stream",
     "text": [
      "INFO:tensorflow:Assets written to: D:\\NU\\Nour_project\\model\\model\\assets\n"
     ]
    },
    {
     "name": "stderr",
     "output_type": "stream",
     "text": [
      "INFO:tensorflow:Assets written to: D:\\NU\\Nour_project\\model\\model\\assets\n"
     ]
    },
    {
     "name": "stdout",
     "output_type": "stream",
     "text": [
      "40/40 [==============================] - 30s 647ms/step - loss: 3.6495 - acc: 0.2664 - val_loss: 1.3830 - val_acc: 0.6250 - lr: 0.0010\n",
      "Epoch 2/120\n",
      "40/40 [==============================] - ETA: 0s - loss: 1.5573 - acc: 0.5453\n",
      "Epoch 2: val_loss improved from 1.38301 to 0.83767, saving model to D:\\NU\\Nour_project\\model\\trained_model.h5\n",
      "\n",
      "Epoch 2: val_loss improved from 1.38301 to 0.83767, saving model to D:\\NU\\Nour_project\\model\\model\n"
     ]
    },
    {
     "name": "stderr",
     "output_type": "stream",
     "text": [
      "WARNING:absl:Found untraced functions such as _jit_compiled_convolution_op, _jit_compiled_convolution_op, _jit_compiled_convolution_op, _jit_compiled_convolution_op, _jit_compiled_convolution_op while saving (showing 5 of 13). These functions will not be directly callable after loading.\n"
     ]
    },
    {
     "name": "stdout",
     "output_type": "stream",
     "text": [
      "INFO:tensorflow:Assets written to: D:\\NU\\Nour_project\\model\\model\\assets\n"
     ]
    },
    {
     "name": "stderr",
     "output_type": "stream",
     "text": [
      "INFO:tensorflow:Assets written to: D:\\NU\\Nour_project\\model\\model\\assets\n"
     ]
    },
    {
     "name": "stdout",
     "output_type": "stream",
     "text": [
      "40/40 [==============================] - 23s 578ms/step - loss: 1.5573 - acc: 0.5453 - val_loss: 0.8377 - val_acc: 0.7800 - lr: 0.0010\n",
      "Epoch 3/120\n",
      "40/40 [==============================] - ETA: 0s - loss: 1.1495 - acc: 0.6561\n",
      "Epoch 3: val_loss improved from 0.83767 to 0.57523, saving model to D:\\NU\\Nour_project\\model\\trained_model.h5\n",
      "\n",
      "Epoch 3: val_loss improved from 0.83767 to 0.57523, saving model to D:\\NU\\Nour_project\\model\\model\n"
     ]
    },
    {
     "name": "stderr",
     "output_type": "stream",
     "text": [
      "WARNING:absl:Found untraced functions such as _jit_compiled_convolution_op, _jit_compiled_convolution_op, _jit_compiled_convolution_op, _jit_compiled_convolution_op, _jit_compiled_convolution_op while saving (showing 5 of 13). These functions will not be directly callable after loading.\n"
     ]
    },
    {
     "name": "stdout",
     "output_type": "stream",
     "text": [
      "INFO:tensorflow:Assets written to: D:\\NU\\Nour_project\\model\\model\\assets\n"
     ]
    },
    {
     "name": "stderr",
     "output_type": "stream",
     "text": [
      "INFO:tensorflow:Assets written to: D:\\NU\\Nour_project\\model\\model\\assets\n"
     ]
    },
    {
     "name": "stdout",
     "output_type": "stream",
     "text": [
      "40/40 [==============================] - 23s 575ms/step - loss: 1.1495 - acc: 0.6561 - val_loss: 0.5752 - val_acc: 0.8350 - lr: 0.0010\n",
      "Epoch 4/120\n",
      "40/40 [==============================] - ETA: 0s - loss: 0.9796 - acc: 0.6847\n",
      "Epoch 4: val_loss improved from 0.57523 to 0.53581, saving model to D:\\NU\\Nour_project\\model\\trained_model.h5\n",
      "\n",
      "Epoch 4: val_loss improved from 0.57523 to 0.53581, saving model to D:\\NU\\Nour_project\\model\\model\n"
     ]
    },
    {
     "name": "stderr",
     "output_type": "stream",
     "text": [
      "WARNING:absl:Found untraced functions such as _jit_compiled_convolution_op, _jit_compiled_convolution_op, _jit_compiled_convolution_op, _jit_compiled_convolution_op, _jit_compiled_convolution_op while saving (showing 5 of 13). These functions will not be directly callable after loading.\n"
     ]
    },
    {
     "name": "stdout",
     "output_type": "stream",
     "text": [
      "INFO:tensorflow:Assets written to: D:\\NU\\Nour_project\\model\\model\\assets\n"
     ]
    },
    {
     "name": "stderr",
     "output_type": "stream",
     "text": [
      "INFO:tensorflow:Assets written to: D:\\NU\\Nour_project\\model\\model\\assets\n"
     ]
    },
    {
     "name": "stdout",
     "output_type": "stream",
     "text": [
      "40/40 [==============================] - 22s 551ms/step - loss: 0.9796 - acc: 0.6847 - val_loss: 0.5358 - val_acc: 0.8450 - lr: 0.0010\n",
      "Epoch 5/120\n",
      "40/40 [==============================] - ETA: 0s - loss: 0.8118 - acc: 0.7596\n",
      "Epoch 5: val_loss improved from 0.53581 to 0.37245, saving model to D:\\NU\\Nour_project\\model\\trained_model.h5\n",
      "\n",
      "Epoch 5: val_loss improved from 0.53581 to 0.37245, saving model to D:\\NU\\Nour_project\\model\\model\n"
     ]
    },
    {
     "name": "stderr",
     "output_type": "stream",
     "text": [
      "WARNING:absl:Found untraced functions such as _jit_compiled_convolution_op, _jit_compiled_convolution_op, _jit_compiled_convolution_op, _jit_compiled_convolution_op, _jit_compiled_convolution_op while saving (showing 5 of 13). These functions will not be directly callable after loading.\n"
     ]
    },
    {
     "name": "stdout",
     "output_type": "stream",
     "text": [
      "INFO:tensorflow:Assets written to: D:\\NU\\Nour_project\\model\\model\\assets\n"
     ]
    },
    {
     "name": "stderr",
     "output_type": "stream",
     "text": [
      "INFO:tensorflow:Assets written to: D:\\NU\\Nour_project\\model\\model\\assets\n"
     ]
    },
    {
     "name": "stdout",
     "output_type": "stream",
     "text": [
      "40/40 [==============================] - 25s 610ms/step - loss: 0.8118 - acc: 0.7596 - val_loss: 0.3725 - val_acc: 0.9000 - lr: 0.0010\n",
      "Epoch 6/120\n",
      "40/40 [==============================] - ETA: 0s - loss: 0.7958 - acc: 0.7596\n",
      "Epoch 6: val_loss improved from 0.37245 to 0.35667, saving model to D:\\NU\\Nour_project\\model\\trained_model.h5\n",
      "\n",
      "Epoch 6: val_loss improved from 0.37245 to 0.35667, saving model to D:\\NU\\Nour_project\\model\\model\n"
     ]
    },
    {
     "name": "stderr",
     "output_type": "stream",
     "text": [
      "WARNING:absl:Found untraced functions such as _jit_compiled_convolution_op, _jit_compiled_convolution_op, _jit_compiled_convolution_op, _jit_compiled_convolution_op, _jit_compiled_convolution_op while saving (showing 5 of 13). These functions will not be directly callable after loading.\n"
     ]
    },
    {
     "name": "stdout",
     "output_type": "stream",
     "text": [
      "INFO:tensorflow:Assets written to: D:\\NU\\Nour_project\\model\\model\\assets\n"
     ]
    },
    {
     "name": "stderr",
     "output_type": "stream",
     "text": [
      "INFO:tensorflow:Assets written to: D:\\NU\\Nour_project\\model\\model\\assets\n"
     ]
    },
    {
     "name": "stdout",
     "output_type": "stream",
     "text": [
      "40/40 [==============================] - 23s 562ms/step - loss: 0.7958 - acc: 0.7596 - val_loss: 0.3567 - val_acc: 0.9250 - lr: 0.0010\n",
      "Epoch 7/120\n",
      "40/40 [==============================] - ETA: 0s - loss: 0.6259 - acc: 0.8193\n",
      "Epoch 7: val_loss improved from 0.35667 to 0.29083, saving model to D:\\NU\\Nour_project\\model\\trained_model.h5\n",
      "\n",
      "Epoch 7: val_loss improved from 0.35667 to 0.29083, saving model to D:\\NU\\Nour_project\\model\\model\n"
     ]
    },
    {
     "name": "stderr",
     "output_type": "stream",
     "text": [
      "WARNING:absl:Found untraced functions such as _jit_compiled_convolution_op, _jit_compiled_convolution_op, _jit_compiled_convolution_op, _jit_compiled_convolution_op, _jit_compiled_convolution_op while saving (showing 5 of 13). These functions will not be directly callable after loading.\n"
     ]
    },
    {
     "name": "stdout",
     "output_type": "stream",
     "text": [
      "INFO:tensorflow:Assets written to: D:\\NU\\Nour_project\\model\\model\\assets\n"
     ]
    },
    {
     "name": "stderr",
     "output_type": "stream",
     "text": [
      "INFO:tensorflow:Assets written to: D:\\NU\\Nour_project\\model\\model\\assets\n"
     ]
    },
    {
     "name": "stdout",
     "output_type": "stream",
     "text": [
      "40/40 [==============================] - 24s 597ms/step - loss: 0.6259 - acc: 0.8193 - val_loss: 0.2908 - val_acc: 0.9250 - lr: 0.0010\n",
      "Epoch 8/120\n",
      "40/40 [==============================] - ETA: 0s - loss: 0.6071 - acc: 0.8081\n",
      "Epoch 8: val_loss improved from 0.29083 to 0.28863, saving model to D:\\NU\\Nour_project\\model\\trained_model.h5\n",
      "\n",
      "Epoch 8: val_loss improved from 0.29083 to 0.28863, saving model to D:\\NU\\Nour_project\\model\\model\n"
     ]
    },
    {
     "name": "stderr",
     "output_type": "stream",
     "text": [
      "WARNING:absl:Found untraced functions such as _jit_compiled_convolution_op, _jit_compiled_convolution_op, _jit_compiled_convolution_op, _jit_compiled_convolution_op, _jit_compiled_convolution_op while saving (showing 5 of 13). These functions will not be directly callable after loading.\n"
     ]
    },
    {
     "name": "stdout",
     "output_type": "stream",
     "text": [
      "INFO:tensorflow:Assets written to: D:\\NU\\Nour_project\\model\\model\\assets\n"
     ]
    },
    {
     "name": "stderr",
     "output_type": "stream",
     "text": [
      "INFO:tensorflow:Assets written to: D:\\NU\\Nour_project\\model\\model\\assets\n"
     ]
    },
    {
     "name": "stdout",
     "output_type": "stream",
     "text": [
      "40/40 [==============================] - 23s 583ms/step - loss: 0.6071 - acc: 0.8081 - val_loss: 0.2886 - val_acc: 0.9050 - lr: 0.0010\n",
      "Epoch 9/120\n",
      "40/40 [==============================] - ETA: 0s - loss: 0.5479 - acc: 0.8328\n",
      "Epoch 9: val_loss improved from 0.28863 to 0.21419, saving model to D:\\NU\\Nour_project\\model\\trained_model.h5\n",
      "\n",
      "Epoch 9: val_loss improved from 0.28863 to 0.21419, saving model to D:\\NU\\Nour_project\\model\\model\n"
     ]
    },
    {
     "name": "stderr",
     "output_type": "stream",
     "text": [
      "WARNING:absl:Found untraced functions such as _jit_compiled_convolution_op, _jit_compiled_convolution_op, _jit_compiled_convolution_op, _jit_compiled_convolution_op, _jit_compiled_convolution_op while saving (showing 5 of 13). These functions will not be directly callable after loading.\n"
     ]
    },
    {
     "name": "stdout",
     "output_type": "stream",
     "text": [
      "INFO:tensorflow:Assets written to: D:\\NU\\Nour_project\\model\\model\\assets\n"
     ]
    },
    {
     "name": "stderr",
     "output_type": "stream",
     "text": [
      "INFO:tensorflow:Assets written to: D:\\NU\\Nour_project\\model\\model\\assets\n"
     ]
    },
    {
     "name": "stdout",
     "output_type": "stream",
     "text": [
      "40/40 [==============================] - 23s 570ms/step - loss: 0.5479 - acc: 0.8328 - val_loss: 0.2142 - val_acc: 0.9450 - lr: 0.0010\n",
      "Epoch 10/120\n",
      "40/40 [==============================] - ETA: 0s - loss: 0.4934 - acc: 0.8516\n",
      "Epoch 10: val_loss did not improve from 0.21419\n",
      "\n",
      "Epoch 10: val_loss did not improve from 0.21419\n",
      "40/40 [==============================] - 15s 379ms/step - loss: 0.4934 - acc: 0.8516 - val_loss: 0.2237 - val_acc: 0.9550 - lr: 0.0010\n",
      "Epoch 11/120\n",
      "40/40 [==============================] - ETA: 0s - loss: 0.4459 - acc: 0.8539\n",
      "Epoch 11: val_loss improved from 0.21419 to 0.17698, saving model to D:\\NU\\Nour_project\\model\\trained_model.h5\n",
      "\n",
      "Epoch 11: val_loss improved from 0.21419 to 0.17698, saving model to D:\\NU\\Nour_project\\model\\model\n"
     ]
    },
    {
     "name": "stderr",
     "output_type": "stream",
     "text": [
      "WARNING:absl:Found untraced functions such as _jit_compiled_convolution_op, _jit_compiled_convolution_op, _jit_compiled_convolution_op, _jit_compiled_convolution_op, _jit_compiled_convolution_op while saving (showing 5 of 13). These functions will not be directly callable after loading.\n"
     ]
    },
    {
     "name": "stdout",
     "output_type": "stream",
     "text": [
      "INFO:tensorflow:Assets written to: D:\\NU\\Nour_project\\model\\model\\assets\n"
     ]
    },
    {
     "name": "stderr",
     "output_type": "stream",
     "text": [
      "INFO:tensorflow:Assets written to: D:\\NU\\Nour_project\\model\\model\\assets\n"
     ]
    },
    {
     "name": "stdout",
     "output_type": "stream",
     "text": [
      "40/40 [==============================] - 23s 572ms/step - loss: 0.4459 - acc: 0.8539 - val_loss: 0.1770 - val_acc: 0.9700 - lr: 0.0010\n",
      "Epoch 12/120\n",
      "40/40 [==============================] - ETA: 0s - loss: 0.4147 - acc: 0.8789\n",
      "Epoch 12: val_loss did not improve from 0.17698\n",
      "\n",
      "Epoch 12: val_loss did not improve from 0.17698\n",
      "40/40 [==============================] - 16s 385ms/step - loss: 0.4147 - acc: 0.8789 - val_loss: 0.2213 - val_acc: 0.9500 - lr: 0.0010\n",
      "Epoch 13/120\n",
      "40/40 [==============================] - ETA: 0s - loss: 0.4265 - acc: 0.8547\n",
      "Epoch 13: val_loss improved from 0.17698 to 0.16625, saving model to D:\\NU\\Nour_project\\model\\trained_model.h5\n",
      "\n",
      "Epoch 13: val_loss improved from 0.17698 to 0.16625, saving model to D:\\NU\\Nour_project\\model\\model\n"
     ]
    },
    {
     "name": "stderr",
     "output_type": "stream",
     "text": [
      "WARNING:absl:Found untraced functions such as _jit_compiled_convolution_op, _jit_compiled_convolution_op, _jit_compiled_convolution_op, _jit_compiled_convolution_op, _jit_compiled_convolution_op while saving (showing 5 of 13). These functions will not be directly callable after loading.\n"
     ]
    },
    {
     "name": "stdout",
     "output_type": "stream",
     "text": [
      "INFO:tensorflow:Assets written to: D:\\NU\\Nour_project\\model\\model\\assets\n"
     ]
    },
    {
     "name": "stderr",
     "output_type": "stream",
     "text": [
      "INFO:tensorflow:Assets written to: D:\\NU\\Nour_project\\model\\model\\assets\n"
     ]
    },
    {
     "name": "stdout",
     "output_type": "stream",
     "text": [
      "40/40 [==============================] - 23s 569ms/step - loss: 0.4265 - acc: 0.8547 - val_loss: 0.1662 - val_acc: 0.9650 - lr: 0.0010\n",
      "Epoch 14/120\n",
      "40/40 [==============================] - ETA: 0s - loss: 0.3802 - acc: 0.8798\n",
      "Epoch 14: val_loss improved from 0.16625 to 0.13041, saving model to D:\\NU\\Nour_project\\model\\trained_model.h5\n",
      "\n",
      "Epoch 14: val_loss improved from 0.16625 to 0.13041, saving model to D:\\NU\\Nour_project\\model\\model\n"
     ]
    },
    {
     "name": "stderr",
     "output_type": "stream",
     "text": [
      "WARNING:absl:Found untraced functions such as _jit_compiled_convolution_op, _jit_compiled_convolution_op, _jit_compiled_convolution_op, _jit_compiled_convolution_op, _jit_compiled_convolution_op while saving (showing 5 of 13). These functions will not be directly callable after loading.\n"
     ]
    },
    {
     "name": "stdout",
     "output_type": "stream",
     "text": [
      "INFO:tensorflow:Assets written to: D:\\NU\\Nour_project\\model\\model\\assets\n"
     ]
    },
    {
     "name": "stderr",
     "output_type": "stream",
     "text": [
      "INFO:tensorflow:Assets written to: D:\\NU\\Nour_project\\model\\model\\assets\n"
     ]
    },
    {
     "name": "stdout",
     "output_type": "stream",
     "text": [
      "40/40 [==============================] - 23s 568ms/step - loss: 0.3802 - acc: 0.8798 - val_loss: 0.1304 - val_acc: 0.9750 - lr: 0.0010\n",
      "Epoch 15/120\n",
      "40/40 [==============================] - ETA: 0s - loss: 0.3582 - acc: 0.8798\n",
      "Epoch 15: val_loss did not improve from 0.13041\n",
      "\n",
      "Epoch 15: val_loss did not improve from 0.13041\n",
      "40/40 [==============================] - 15s 373ms/step - loss: 0.3582 - acc: 0.8798 - val_loss: 0.1623 - val_acc: 0.9600 - lr: 0.0010\n",
      "Epoch 16/120\n",
      "40/40 [==============================] - ETA: 0s - loss: 0.3783 - acc: 0.8798\n",
      "Epoch 16: val_loss did not improve from 0.13041\n",
      "\n",
      "Epoch 16: val_loss did not improve from 0.13041\n",
      "40/40 [==============================] - 15s 379ms/step - loss: 0.3783 - acc: 0.8798 - val_loss: 0.2118 - val_acc: 0.9350 - lr: 0.0010\n",
      "Epoch 17/120\n",
      "40/40 [==============================] - ETA: 0s - loss: 0.3611 - acc: 0.8909\n",
      "Epoch 17: val_loss did not improve from 0.13041\n",
      "\n",
      "Epoch 17: val_loss did not improve from 0.13041\n",
      "\n",
      "Epoch 17: ReduceLROnPlateau reducing learning rate to 0.00010000000474974513.\n",
      "40/40 [==============================] - 15s 379ms/step - loss: 0.3611 - acc: 0.8909 - val_loss: 0.1512 - val_acc: 0.9650 - lr: 0.0010\n",
      "Epoch 18/120\n",
      "40/40 [==============================] - ETA: 0s - loss: 0.2933 - acc: 0.9076\n",
      "Epoch 18: val_loss did not improve from 0.13041\n",
      "\n",
      "Epoch 18: val_loss did not improve from 0.13041\n",
      "40/40 [==============================] - 15s 381ms/step - loss: 0.2933 - acc: 0.9076 - val_loss: 0.1335 - val_acc: 0.9650 - lr: 1.0000e-04\n",
      "Epoch 19/120\n",
      "40/40 [==============================] - ETA: 0s - loss: 0.2539 - acc: 0.9148\n",
      "Epoch 19: val_loss did not improve from 0.13041\n",
      "\n",
      "Epoch 19: val_loss did not improve from 0.13041\n",
      "40/40 [==============================] - 15s 379ms/step - loss: 0.2539 - acc: 0.9148 - val_loss: 0.1354 - val_acc: 0.9650 - lr: 1.0000e-04\n",
      "Epoch 20/120\n",
      "40/40 [==============================] - ETA: 0s - loss: 0.2156 - acc: 0.9419\n",
      "Epoch 20: val_loss improved from 0.13041 to 0.12235, saving model to D:\\NU\\Nour_project\\model\\trained_model.h5\n",
      "\n",
      "Epoch 20: val_loss improved from 0.13041 to 0.12235, saving model to D:\\NU\\Nour_project\\model\\model\n"
     ]
    },
    {
     "name": "stderr",
     "output_type": "stream",
     "text": [
      "WARNING:absl:Found untraced functions such as _jit_compiled_convolution_op, _jit_compiled_convolution_op, _jit_compiled_convolution_op, _jit_compiled_convolution_op, _jit_compiled_convolution_op while saving (showing 5 of 13). These functions will not be directly callable after loading.\n"
     ]
    },
    {
     "name": "stdout",
     "output_type": "stream",
     "text": [
      "INFO:tensorflow:Assets written to: D:\\NU\\Nour_project\\model\\model\\assets\n"
     ]
    },
    {
     "name": "stderr",
     "output_type": "stream",
     "text": [
      "INFO:tensorflow:Assets written to: D:\\NU\\Nour_project\\model\\model\\assets\n"
     ]
    },
    {
     "name": "stdout",
     "output_type": "stream",
     "text": [
      "40/40 [==============================] - 23s 574ms/step - loss: 0.2156 - acc: 0.9419 - val_loss: 0.1224 - val_acc: 0.9700 - lr: 1.0000e-04\n",
      "Epoch 21/120\n",
      "40/40 [==============================] - ETA: 0s - loss: 0.2387 - acc: 0.9250\n",
      "Epoch 21: val_loss did not improve from 0.12235\n",
      "\n",
      "Epoch 21: val_loss did not improve from 0.12235\n",
      "40/40 [==============================] - 16s 379ms/step - loss: 0.2387 - acc: 0.9250 - val_loss: 0.1337 - val_acc: 0.9700 - lr: 1.0000e-04\n",
      "Epoch 22/120\n",
      "40/40 [==============================] - ETA: 0s - loss: 0.2297 - acc: 0.9289\n",
      "Epoch 22: val_loss did not improve from 0.12235\n",
      "\n",
      "Epoch 22: val_loss did not improve from 0.12235\n",
      "40/40 [==============================] - 16s 387ms/step - loss: 0.2297 - acc: 0.9289 - val_loss: 0.1280 - val_acc: 0.9650 - lr: 1.0000e-04\n",
      "Epoch 23/120\n",
      "40/40 [==============================] - ETA: 0s - loss: 0.2156 - acc: 0.9339\n",
      "Epoch 23: val_loss improved from 0.12235 to 0.11806, saving model to D:\\NU\\Nour_project\\model\\trained_model.h5\n",
      "\n",
      "Epoch 23: val_loss improved from 0.12235 to 0.11806, saving model to D:\\NU\\Nour_project\\model\\model\n"
     ]
    },
    {
     "name": "stderr",
     "output_type": "stream",
     "text": [
      "WARNING:absl:Found untraced functions such as _jit_compiled_convolution_op, _jit_compiled_convolution_op, _jit_compiled_convolution_op, _jit_compiled_convolution_op, _jit_compiled_convolution_op while saving (showing 5 of 13). These functions will not be directly callable after loading.\n"
     ]
    },
    {
     "name": "stdout",
     "output_type": "stream",
     "text": [
      "INFO:tensorflow:Assets written to: D:\\NU\\Nour_project\\model\\model\\assets\n"
     ]
    },
    {
     "name": "stderr",
     "output_type": "stream",
     "text": [
      "INFO:tensorflow:Assets written to: D:\\NU\\Nour_project\\model\\model\\assets\n"
     ]
    },
    {
     "name": "stdout",
     "output_type": "stream",
     "text": [
      "40/40 [==============================] - 23s 569ms/step - loss: 0.2156 - acc: 0.9339 - val_loss: 0.1181 - val_acc: 0.9750 - lr: 1.0000e-04\n",
      "Epoch 24/120\n",
      "40/40 [==============================] - ETA: 0s - loss: 0.2122 - acc: 0.9371\n",
      "Epoch 24: val_loss did not improve from 0.11806\n",
      "\n",
      "Epoch 24: val_loss did not improve from 0.11806\n",
      "40/40 [==============================] - 16s 379ms/step - loss: 0.2122 - acc: 0.9371 - val_loss: 0.1245 - val_acc: 0.9750 - lr: 1.0000e-04\n",
      "Epoch 25/120\n",
      "40/40 [==============================] - ETA: 0s - loss: 0.2051 - acc: 0.9379\n",
      "Epoch 25: val_loss did not improve from 0.11806\n",
      "\n",
      "Epoch 25: val_loss did not improve from 0.11806\n",
      "40/40 [==============================] - 16s 386ms/step - loss: 0.2051 - acc: 0.9379 - val_loss: 0.1200 - val_acc: 0.9800 - lr: 1.0000e-04\n",
      "Epoch 26/120\n",
      "40/40 [==============================] - ETA: 0s - loss: 0.1972 - acc: 0.9403\n",
      "Epoch 26: val_loss improved from 0.11806 to 0.10527, saving model to D:\\NU\\Nour_project\\model\\trained_model.h5\n",
      "\n",
      "Epoch 26: val_loss improved from 0.11806 to 0.10527, saving model to D:\\NU\\Nour_project\\model\\model\n"
     ]
    },
    {
     "name": "stderr",
     "output_type": "stream",
     "text": [
      "WARNING:absl:Found untraced functions such as _jit_compiled_convolution_op, _jit_compiled_convolution_op, _jit_compiled_convolution_op, _jit_compiled_convolution_op, _jit_compiled_convolution_op while saving (showing 5 of 13). These functions will not be directly callable after loading.\n"
     ]
    },
    {
     "name": "stdout",
     "output_type": "stream",
     "text": [
      "INFO:tensorflow:Assets written to: D:\\NU\\Nour_project\\model\\model\\assets\n"
     ]
    },
    {
     "name": "stderr",
     "output_type": "stream",
     "text": [
      "INFO:tensorflow:Assets written to: D:\\NU\\Nour_project\\model\\model\\assets\n"
     ]
    },
    {
     "name": "stdout",
     "output_type": "stream",
     "text": [
      "40/40 [==============================] - 22s 559ms/step - loss: 0.1972 - acc: 0.9403 - val_loss: 0.1053 - val_acc: 0.9850 - lr: 1.0000e-04\n",
      "Epoch 27/120\n",
      "40/40 [==============================] - ETA: 0s - loss: 0.1755 - acc: 0.9508\n",
      "Epoch 27: val_loss did not improve from 0.10527\n",
      "\n",
      "Epoch 27: val_loss did not improve from 0.10527\n",
      "40/40 [==============================] - 16s 379ms/step - loss: 0.1755 - acc: 0.9508 - val_loss: 0.1178 - val_acc: 0.9800 - lr: 1.0000e-04\n",
      "Epoch 28/120\n",
      "40/40 [==============================] - ETA: 0s - loss: 0.1872 - acc: 0.9411\n",
      "Epoch 28: val_loss did not improve from 0.10527\n",
      "\n",
      "Epoch 28: val_loss did not improve from 0.10527\n",
      "40/40 [==============================] - 15s 381ms/step - loss: 0.1872 - acc: 0.9411 - val_loss: 0.1088 - val_acc: 0.9800 - lr: 1.0000e-04\n",
      "Epoch 29/120\n",
      "40/40 [==============================] - ETA: 0s - loss: 0.1835 - acc: 0.9395\n",
      "Epoch 29: val_loss did not improve from 0.10527\n",
      "\n",
      "Epoch 29: val_loss did not improve from 0.10527\n",
      "\n",
      "Epoch 29: ReduceLROnPlateau reducing learning rate to 1.0000000474974514e-05.\n",
      "40/40 [==============================] - 16s 384ms/step - loss: 0.1835 - acc: 0.9395 - val_loss: 0.1072 - val_acc: 0.9750 - lr: 1.0000e-04\n",
      "Epoch 30/120\n",
      "40/40 [==============================] - ETA: 0s - loss: 0.2049 - acc: 0.9387\n",
      "Epoch 30: val_loss did not improve from 0.10527\n",
      "\n",
      "Epoch 30: val_loss did not improve from 0.10527\n",
      "40/40 [==============================] - 16s 386ms/step - loss: 0.2049 - acc: 0.9387 - val_loss: 0.1068 - val_acc: 0.9850 - lr: 1.0000e-05\n",
      "Epoch 31/120\n",
      "40/40 [==============================] - ETA: 0s - loss: 0.2126 - acc: 0.9260\n",
      "Epoch 31: val_loss did not improve from 0.10527\n",
      "\n",
      "Epoch 31: val_loss did not improve from 0.10527\n",
      "40/40 [==============================] - 16s 386ms/step - loss: 0.2126 - acc: 0.9260 - val_loss: 0.1069 - val_acc: 0.9850 - lr: 1.0000e-05\n",
      "Epoch 32/120\n",
      "40/40 [==============================] - ETA: 0s - loss: 0.1995 - acc: 0.9427\n",
      "Epoch 32: val_loss did not improve from 0.10527\n",
      "\n",
      "Epoch 32: val_loss did not improve from 0.10527\n",
      "\n",
      "Epoch 32: ReduceLROnPlateau reducing learning rate to 1.0000000656873453e-06.\n",
      "40/40 [==============================] - 15s 383ms/step - loss: 0.1995 - acc: 0.9427 - val_loss: 0.1068 - val_acc: 0.9850 - lr: 1.0000e-05\n",
      "Epoch 33/120\n",
      "40/40 [==============================] - ETA: 0s - loss: 0.1892 - acc: 0.9435\n",
      "Epoch 33: val_loss did not improve from 0.10527\n",
      "\n",
      "Epoch 33: val_loss did not improve from 0.10527\n",
      "40/40 [==============================] - 16s 390ms/step - loss: 0.1892 - acc: 0.9435 - val_loss: 0.1067 - val_acc: 0.9850 - lr: 1.0000e-06\n",
      "Epoch 34/120\n",
      "40/40 [==============================] - ETA: 0s - loss: 0.1891 - acc: 0.9475\n",
      "Epoch 34: val_loss did not improve from 0.10527\n",
      "\n",
      "Epoch 34: val_loss did not improve from 0.10527\n",
      "40/40 [==============================] - 16s 394ms/step - loss: 0.1891 - acc: 0.9475 - val_loss: 0.1066 - val_acc: 0.9850 - lr: 1.0000e-06\n",
      "Epoch 35/120\n",
      "40/40 [==============================] - ETA: 0s - loss: 0.1852 - acc: 0.9411\n",
      "Epoch 35: val_loss did not improve from 0.10527\n",
      "\n",
      "Epoch 35: val_loss did not improve from 0.10527\n",
      "\n",
      "Epoch 35: ReduceLROnPlateau reducing learning rate to 1.0000001111620805e-07.\n",
      "40/40 [==============================] - 16s 388ms/step - loss: 0.1852 - acc: 0.9411 - val_loss: 0.1065 - val_acc: 0.9850 - lr: 1.0000e-06\n",
      "Epoch 36/120\n",
      "40/40 [==============================] - ETA: 0s - loss: 0.1922 - acc: 0.9379\n",
      "Epoch 36: val_loss did not improve from 0.10527\n",
      "\n",
      "Epoch 36: val_loss did not improve from 0.10527\n",
      "40/40 [==============================] - 16s 388ms/step - loss: 0.1922 - acc: 0.9379 - val_loss: 0.1065 - val_acc: 0.9850 - lr: 1.0000e-07\n",
      "Epoch 37/120\n",
      "40/40 [==============================] - ETA: 0s - loss: 0.1904 - acc: 0.9451\n",
      "Epoch 37: val_loss did not improve from 0.10527\n",
      "\n",
      "Epoch 37: val_loss did not improve from 0.10527\n",
      "40/40 [==============================] - 16s 385ms/step - loss: 0.1904 - acc: 0.9451 - val_loss: 0.1065 - val_acc: 0.9850 - lr: 1.0000e-07\n",
      "Epoch 38/120\n",
      "40/40 [==============================] - ETA: 0s - loss: 0.1906 - acc: 0.9435\n",
      "Epoch 38: val_loss did not improve from 0.10527\n",
      "\n",
      "Epoch 38: val_loss did not improve from 0.10527\n",
      "\n",
      "Epoch 38: ReduceLROnPlateau reducing learning rate to 1.000000082740371e-08.\n",
      "40/40 [==============================] - 16s 386ms/step - loss: 0.1906 - acc: 0.9435 - val_loss: 0.1065 - val_acc: 0.9850 - lr: 1.0000e-07\n",
      "Epoch 39/120\n",
      "40/40 [==============================] - ETA: 0s - loss: 0.1735 - acc: 0.9484\n",
      "Epoch 39: val_loss did not improve from 0.10527\n",
      "\n",
      "Epoch 39: val_loss did not improve from 0.10527\n",
      "40/40 [==============================] - 16s 399ms/step - loss: 0.1735 - acc: 0.9484 - val_loss: 0.1065 - val_acc: 0.9850 - lr: 1.0000e-08\n",
      "Epoch 40/120\n",
      "40/40 [==============================] - ETA: 0s - loss: 0.1802 - acc: 0.9459\n",
      "Epoch 40: val_loss did not improve from 0.10527\n",
      "\n",
      "Epoch 40: val_loss did not improve from 0.10527\n",
      "40/40 [==============================] - 16s 393ms/step - loss: 0.1802 - acc: 0.9459 - val_loss: 0.1065 - val_acc: 0.9850 - lr: 1.0000e-08\n",
      "Epoch 41/120\n",
      "40/40 [==============================] - ETA: 0s - loss: 0.1794 - acc: 0.9477\n",
      "Epoch 41: val_loss did not improve from 0.10527\n",
      "\n",
      "Epoch 41: val_loss did not improve from 0.10527\n",
      "\n",
      "Epoch 41: ReduceLROnPlateau reducing learning rate to 1.000000082740371e-09.\n",
      "40/40 [==============================] - 16s 396ms/step - loss: 0.1794 - acc: 0.9477 - val_loss: 0.1065 - val_acc: 0.9850 - lr: 1.0000e-08\n",
      "Epoch 42/120\n",
      "40/40 [==============================] - ETA: 0s - loss: 0.1791 - acc: 0.9578\n",
      "Epoch 42: val_loss did not improve from 0.10527\n",
      "\n",
      "Epoch 42: val_loss did not improve from 0.10527\n",
      "40/40 [==============================] - 16s 391ms/step - loss: 0.1791 - acc: 0.9578 - val_loss: 0.1065 - val_acc: 0.9850 - lr: 1.0000e-09\n",
      "Epoch 43/120\n",
      "40/40 [==============================] - ETA: 0s - loss: 0.1893 - acc: 0.9451\n",
      "Epoch 43: val_loss did not improve from 0.10527\n",
      "\n",
      "Epoch 43: val_loss did not improve from 0.10527\n",
      "40/40 [==============================] - 16s 405ms/step - loss: 0.1893 - acc: 0.9451 - val_loss: 0.1065 - val_acc: 0.9850 - lr: 1.0000e-09\n",
      "Epoch 44/120\n",
      "40/40 [==============================] - ETA: 0s - loss: 0.1795 - acc: 0.9522\n",
      "Epoch 44: val_loss did not improve from 0.10527\n",
      "\n",
      "Epoch 44: val_loss did not improve from 0.10527\n",
      "\n",
      "Epoch 44: ReduceLROnPlateau reducing learning rate to 1.000000082740371e-10.\n",
      "40/40 [==============================] - 16s 392ms/step - loss: 0.1795 - acc: 0.9522 - val_loss: 0.1065 - val_acc: 0.9850 - lr: 1.0000e-09\n",
      "Epoch 45/120\n",
      "40/40 [==============================] - ETA: 0s - loss: 0.2025 - acc: 0.9395\n",
      "Epoch 45: val_loss did not improve from 0.10527\n",
      "\n",
      "Epoch 45: val_loss did not improve from 0.10527\n",
      "40/40 [==============================] - 16s 397ms/step - loss: 0.2025 - acc: 0.9395 - val_loss: 0.1065 - val_acc: 0.9850 - lr: 1.0000e-10\n",
      "Epoch 46/120\n",
      "40/40 [==============================] - ETA: 0s - loss: 0.1846 - acc: 0.9451\n",
      "Epoch 46: val_loss did not improve from 0.10527\n",
      "\n",
      "Epoch 46: val_loss did not improve from 0.10527\n",
      "40/40 [==============================] - 16s 397ms/step - loss: 0.1846 - acc: 0.9451 - val_loss: 0.1065 - val_acc: 0.9850 - lr: 1.0000e-10\n"
     ]
    }
   ],
   "source": [
    "history = model.fit(train_generator, validation_data=validation_generator ,\n",
    "          steps_per_epoch=40,\n",
    "          epochs=120,\n",
    "          shuffle=True, callbacks=callbacks)\n",
    "\n"
   ]
  },
  {
   "cell_type": "code",
   "execution_count": 10,
   "id": "4a784c7a",
   "metadata": {},
   "outputs": [
    {
     "data": {
      "image/png": "[encoded data removed]",
      "text/plain": [
       "<Figure size 640x480 with 1 Axes>"
      ]
     },
     "metadata": {},
     "output_type": "display_data"
    }
   ],
   "source": [
    "import matplotlib.pyplot as plt\n",
    "\n",
    "plt.plot(history.history['loss'])\n",
    "plt.plot(history.history['val_loss'])\n",
    "plt.title('model loss')\n",
    "plt.ylabel('loss')\n",
    "plt.xlabel('epoch')\n",
    "plt.legend(['train', 'test'], loc='upper left')\n",
    "plt.show()"
   ]
  },
  {
   "cell_type": "code",
   "execution_count": 11,
   "id": "bd85dfa7",
   "metadata": {},
   "outputs": [
    {
     "data": {
      "image/png": "[encoded data removed]",
      "text/plain": [
       "<Figure size 640x480 with 1 Axes>"
      ]
     },
     "metadata": {},
     "output_type": "display_data"
    }
   ],
   "source": [
    "plt.plot(history.history['acc'])\n",
    "plt.plot(history.history['val_acc'])\n",
    "plt.title('model accuracy')\n",
    "plt.ylabel('accuracy')\n",
    "plt.xlabel('epoch')\n",
    "plt.legend(['train', 'test'], loc='upper left')\n",
    "plt.show()"
   ]
  },
  {
   "cell_type": "code",
   "execution_count": 11,
   "id": "84b94923",
   "metadata": {
    "scrolled": true
   },
   "outputs": [
    {
     "name": "stdout",
     "output_type": "stream",
     "text": [
      "1/1 [==============================] - 0s 202ms/step\n",
      "1/1 [==============================] - 0s 29ms/step\n",
      "1/1 [==============================] - 0s 30ms/step\n",
      "1/1 [==============================] - 0s 29ms/step\n",
      "1/1 [==============================] - 0s 29ms/step\n",
      "1/1 [==============================] - 0s 31ms/step\n",
      "1/1 [==============================] - 0s 30ms/step\n",
      "1/1 [==============================] - 0s 31ms/step\n",
      "1/1 [==============================] - 0s 29ms/step\n",
      "1/1 [==============================] - 0s 33ms/step\n",
      "1/1 [==============================] - 0s 30ms/step\n",
      "1/1 [==============================] - 0s 31ms/step\n",
      "1/1 [==============================] - 0s 30ms/step\n",
      "1/1 [==============================] - 0s 29ms/step\n",
      "1/1 [==============================] - 0s 30ms/step\n",
      "1/1 [==============================] - 0s 30ms/step\n",
      "1/1 [==============================] - 0s 30ms/step\n",
      "1/1 [==============================] - 0s 29ms/step\n",
      "1/1 [==============================] - 0s 33ms/step\n",
      "1/1 [==============================] - 0s 29ms/step\n",
      "1/1 [==============================] - 0s 29ms/step\n",
      "1/1 [==============================] - 0s 32ms/step\n",
      "1/1 [==============================] - 0s 29ms/step\n",
      "1/1 [==============================] - 0s 29ms/step\n",
      "1/1 [==============================] - 0s 29ms/step\n",
      "1/1 [==============================] - 0s 29ms/step\n",
      "1/1 [==============================] - 0s 32ms/step\n",
      "1/1 [==============================] - 0s 29ms/step\n",
      "1/1 [==============================] - 0s 29ms/step\n",
      "1/1 [==============================] - 0s 31ms/step\n",
      "1/1 [==============================] - 0s 29ms/step\n",
      "1/1 [==============================] - 0s 28ms/step\n",
      "1/1 [==============================] - 0s 31ms/step\n",
      "1/1 [==============================] - 0s 29ms/step\n",
      "1/1 [==============================] - 0s 29ms/step\n",
      "1/1 [==============================] - 0s 29ms/step\n",
      "1/1 [==============================] - 0s 29ms/step\n",
      "1/1 [==============================] - 0s 30ms/step\n",
      "1/1 [==============================] - 0s 31ms/step\n",
      "1/1 [==============================] - 0s 29ms/step\n",
      "1/1 [==============================] - 0s 30ms/step\n",
      "1/1 [==============================] - 0s 29ms/step\n",
      "1/1 [==============================] - 0s 30ms/step\n",
      "1/1 [==============================] - 0s 32ms/step\n",
      "1/1 [==============================] - 0s 30ms/step\n",
      "1/1 [==============================] - 0s 30ms/step\n",
      "1/1 [==============================] - 0s 31ms/step\n",
      "1/1 [==============================] - 0s 34ms/step\n",
      "1/1 [==============================] - 0s 29ms/step\n",
      "1/1 [==============================] - 0s 31ms/step\n",
      "1/1 [==============================] - 0s 30ms/step\n",
      "1/1 [==============================] - 0s 31ms/step\n",
      "1/1 [==============================] - 0s 30ms/step\n",
      "1/1 [==============================] - 0s 29ms/step\n",
      "1/1 [==============================] - 0s 28ms/step\n",
      "1/1 [==============================] - 0s 29ms/step\n",
      "1/1 [==============================] - 0s 29ms/step\n",
      "1/1 [==============================] - 0s 30ms/step\n"
     ]
    }
   ],
   "source": [
    "# Load your trained model\n",
    "model = load_model(r'D:\\NU\\codealpha\\model\\model')\n",
    "\n",
    "# Initialize the video capture object\n",
    "cap = cv2.VideoCapture(r'D:\\NU\\codealpha\\mohamed.mp4')\n",
    "detector = cv2.CascadeClassifier(\"haarcascade_frontalface_default.xml\")\n",
    "while True:\n",
    "    # Capture frame-by-frame\n",
    "    ret, frame = cap.read()\n",
    "    if not ret:\n",
    "        break\n",
    "\n",
    "    # Convert the captured frame to grayscale\n",
    "    gray = cv2.cvtColor(frame, cv2.COLOR_BGR2GRAY)\n",
    "\n",
    "    # Detect faces in the image\n",
    "    faces = detector.detectMultiScale(gray, scaleFactor=1.1, minNeighbors=5, minSize=(30, 30))\n",
    "\n",
    "    for (x, y, w, h) in faces:\n",
    "        # Extract the face region\n",
    "        face_region = gray[y:y+h, x:x+w]\n",
    "\n",
    "        # Preprocess the face region (resize, reshape, etc.) to match your model's input\n",
    "        face_region_preprocessed = downsample_image(face_region)\n",
    "        face_region_preprocessed = np.stack((face_region_preprocessed,)*3, axis=-1)  # Convert to 3 channels\n",
    "        face_region_preprocessed = face_region_preprocessed.reshape(1, 224, 224, 3) / 255.0  # Add batch dimension and normalize\n",
    "\n",
    "        # Predict the identity using your model\n",
    "        predictions = model.predict(face_region_preprocessed)\n",
    "        predicted_id  = np.argmax(predictions)\n",
    "        predicted_identity = reverse_class_id_map[predicted_id] if predicted_id in reverse_class_id_map else \"Unknown\"\n",
    "\n",
    "        # Display the predicted identity and ID on the frame\n",
    "        display_text = f\"ID: {predicted_id}, Name: {predicted_identity}\"\n",
    "        cv2.rectangle(frame, (x, y), (x+w, y+h), (0, 255, 0), 2)\n",
    "        cv2.putText(frame, display_text, (x, y-10), cv2.FONT_HERSHEY_SIMPLEX, 0.75, (0, 255, 0), 2)\n",
    "\n",
    "    # Display the resulting frame\n",
    "    cv2.imshow('Frame', frame)\n",
    "\n",
    "    # Break the loop with the 'q' key\n",
    "    if cv2.waitKey(1) & 0xFF == ord('q'):\n",
    "        break\n",
    "\n",
    "# When everything done, release the capture\n",
    "cap.release()\n",
    "cv2.destroyAllWindows()\n"
   ]
  },
  {
   "cell_type": "code",
   "execution_count": null,
   "id": "051448d2",
   "metadata": {},
   "outputs": [],
   "source": []
  },
  {
   "cell_type": "code",
   "execution_count": null,
   "id": "25f0c7cb",
   "metadata": {},
   "outputs": [],
   "source": []
  }
 ],
 "metadata": {
  "kernelspec": {
   "display_name": "tf_gpu",
   "language": "python",
   "name": "tf_gpu"
  },
  "language_info": {
   "codemirror_mode": {
    "name": "ipython",
    "version": 3
   },
   "file_extension": ".py",
   "mimetype": "text/x-python",
   "name": "python",
   "nbconvert_exporter": "python",
   "pygments_lexer": "ipython3",
   "version": "3.9.18"
  }
 },
 "nbformat": 4,
 "nbformat_minor": 5
}
